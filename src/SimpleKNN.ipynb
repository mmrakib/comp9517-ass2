{
 "cells": [
  {
   "cell_type": "code",
   "execution_count": 1,
   "metadata": {},
   "outputs": [
    {
     "ename": "ModuleNotFoundError",
     "evalue": "No module named 'utils'",
     "output_type": "error",
     "traceback": [
      "\u001b[1;31m---------------------------------------------------------------------------\u001b[0m",
      "\u001b[1;31mModuleNotFoundError\u001b[0m                       Traceback (most recent call last)",
      "\u001b[1;32md:\\uni\\COMP9517\\comp9517-ass2\\src\\SimpleKNN.ipynb Cell 1\u001b[0m line \u001b[0;36m1\n\u001b[1;32m----> <a href='vscode-notebook-cell:/d%3A/uni/COMP9517/comp9517-ass2/src/SimpleKNN.ipynb#X30sZmlsZQ%3D%3D?line=0'>1</a>\u001b[0m \u001b[39mfrom\u001b[39;00m \u001b[39mutils\u001b[39;00m\u001b[39m.\u001b[39;00m\u001b[39melpv_reader\u001b[39;00m \u001b[39mimport\u001b[39;00m load_dataset\n\u001b[0;32m      <a href='vscode-notebook-cell:/d%3A/uni/COMP9517/comp9517-ass2/src/SimpleKNN.ipynb#X30sZmlsZQ%3D%3D?line=1'>2</a>\u001b[0m \u001b[39mimport\u001b[39;00m \u001b[39mnumpy\u001b[39;00m \u001b[39mas\u001b[39;00m \u001b[39mnp\u001b[39;00m\n\u001b[0;32m      <a href='vscode-notebook-cell:/d%3A/uni/COMP9517/comp9517-ass2/src/SimpleKNN.ipynb#X30sZmlsZQ%3D%3D?line=2'>3</a>\u001b[0m \u001b[39mimport\u001b[39;00m \u001b[39mmatplotlib\u001b[39;00m \u001b[39mas\u001b[39;00m \u001b[39mplt\u001b[39;00m\n",
      "\u001b[1;31mModuleNotFoundError\u001b[0m: No module named 'utils'"
     ]
    }
   ],
   "source": [
    "from utils.elpv_reader import load_dataset\n",
    "import numpy as np\n",
    "import matplotlib as plt\n",
    "# import cv2\n",
    "\n",
    "from tensorflow import keras\n",
    "from sklearn.preprocessing import LabelEncoder\n",
    "from sklearn.model_selection import train_test_split, StratifiedShuffleSplit\n",
    "from sklearn.neighbors import KNeighborsClassifier\n",
    "\n",
    "# from PIL import Image\n",
    "import matplotlib.pyplot as plt"
   ]
  },
  {
   "cell_type": "code",
   "execution_count": null,
   "metadata": {},
   "outputs": [],
   "source": [
    "images, probs, types = load_dataset()"
   ]
  },
  {
   "cell_type": "code",
   "execution_count": null,
   "metadata": {},
   "outputs": [],
   "source": [
    "# OTSU IMAGE SEGMENTATION HUEHUEHUE\n",
    "# uncomment below code for otsu segmentation\n",
    "\n",
    "# for i in range(0, len(images)):\n",
    "#     retOtsu,thOtsu = cv2.threshold(images[i],0,255,cv2.THRESH_BINARY+cv2.THRESH_OTSU)\n",
    "#     images[i] = thOtsu"
   ]
  },
  {
   "cell_type": "code",
   "execution_count": null,
   "metadata": {},
   "outputs": [
    {
     "data": {
      "text/plain": [
       "KNeighborsClassifier(n_neighbors=3)"
      ]
     },
     "execution_count": 4,
     "metadata": {},
     "output_type": "execute_result"
    }
   ],
   "source": [
    "# MAKE BIG TRAINING AND TESTING SET\n",
    "# reshape images\n",
    "images1d = images.copy()\n",
    "images1d = np.reshape(images1d, (len(images), 300 * 300))\n",
    "\n",
    "# setup probs array to be discrete values\n",
    "probs_discrete = np.zeros(len(probs))\n",
    "probs_discrete[probs == 0.0] = 1\n",
    "probs_discrete[probs == 1/3] = 2\n",
    "probs_discrete[probs == 2/3] = 3\n",
    "probs_discrete[probs == 1] = 4\n",
    "\n",
    "# join arrays into array of tuples\n",
    "labels = []\n",
    "for i in range(0, len(probs_discrete)):\n",
    "    labels.append((types[i], probs_discrete[i]))\n",
    "\n",
    "# split into test and train\n",
    "x_train, x_test, y_train, y_test = train_test_split(images1d, labels, test_size=0.25, random_state=420)\n",
    "\n",
    "# further split y axis (labels) back into types and probs\n",
    "y_train_monopoly = np.ones(len(y_train), dtype='object')\n",
    "y_train_probs = np.ones(len(y_train))\n",
    "for i in range(0, len(y_train)):\n",
    "    y_train_monopoly[i] = y_train[i][0]\n",
    "    y_train_probs[i] = y_train[i][1]\n",
    "\n",
    "x_train_mono        = x_train[y_train_monopoly == \"mono\"]\n",
    "y_train_probs_mono  = y_train_probs[y_train_monopoly == \"mono\"]\n",
    "\n",
    "x_train_poly        = x_train[y_train_monopoly == \"poly\"]\n",
    "y_train_probs_poly  = y_train_probs[y_train_monopoly == \"poly\"]\n",
    "\n",
    "\n",
    "y_test_monopoly = np.ones(len(y_test), dtype='object')\n",
    "y_test_probs = np.ones(len(y_test))\n",
    "for i in range(0, len(y_test)):\n",
    "    y_test_monopoly[i] = y_test[i][0]\n",
    "    y_test_probs[i] = y_test[i][1]\n",
    "\n",
    "# print(y_train_monopoly)\n",
    "# print(y_train_probs)\n",
    "# print(y_test_monopoly)\n",
    "# print(y_test_probs)\n",
    "\n",
    "# TRAIN (fit) MODELS!\n",
    "#   classify into mono and poly:\n",
    "neighMonoPoly = KNeighborsClassifier(n_neighbors=3)\n",
    "neighMonoPoly.fit(x_train, y_train_monopoly)\n",
    "\n",
    "#   classify probabilities for mono:\n",
    "neighProbsMono = KNeighborsClassifier(n_neighbors=3)\n",
    "neighProbsMono.fit(x_train_mono, y_train_probs_mono)\n",
    "\n",
    "#   classify probabilities for poly:\n",
    "neighProbsPoly = KNeighborsClassifier(n_neighbors=3)\n",
    "neighProbsPoly.fit(x_train_poly, y_train_probs_poly)\n",
    "\n",
    "\n"
   ]
  },
  {
   "cell_type": "code",
   "execution_count": null,
   "metadata": {},
   "outputs": [
    {
     "name": "stdout",
     "output_type": "stream",
     "text": [
      "              precision    recall  f1-score   support\n",
      "\n",
      "         1.0       0.71      0.89      0.79       377\n",
      "         2.0       0.54      0.41      0.46        69\n",
      "         3.0       0.00      0.00      0.00        28\n",
      "         4.0       0.73      0.51      0.60       182\n",
      "\n",
      "    accuracy                           0.70       656\n",
      "   macro avg       0.50      0.45      0.46       656\n",
      "weighted avg       0.67      0.70      0.67       656\n",
      "\n"
     ]
    }
   ],
   "source": [
    "# Testing\n",
    "\n",
    "# first split into mono- and poly- type panels\n",
    "predictMonoPoly = neighMonoPoly.predict(x_test)\n",
    "\n",
    "assumed_mono_images = x_test[predictMonoPoly == \"mono\"]\n",
    "assumed_poly_images = x_test[predictMonoPoly == \"poly\"]\n",
    "\n",
    "# then, classify based on each type\n",
    "predictMono = neighProbsMono.predict(assumed_mono_images)\n",
    "predictPoly = neighProbsPoly.predict(assumed_poly_images)\n",
    "\n",
    "# regroup\n",
    "predictAll = np.ones(len(predictMono) + len(predictPoly))\n",
    "predictAll[predictMonoPoly == \"mono\"] = predictMono\n",
    "predictAll[predictMonoPoly == \"poly\"] = predictPoly\n",
    "\n",
    "from sklearn.metrics import classification_report\n",
    "print(classification_report(y_test_probs, predictAll))"
   ]
  },
  {
   "cell_type": "code",
   "execution_count": 2,
   "metadata": {},
   "outputs": [
    {
     "ename": "NameError",
     "evalue": "name 'y_test_probs' is not defined",
     "output_type": "error",
     "traceback": [
      "\u001b[1;31m---------------------------------------------------------------------------\u001b[0m",
      "\u001b[1;31mNameError\u001b[0m                                 Traceback (most recent call last)",
      "\u001b[1;32md:\\uni\\COMP9517\\comp9517-ass2\\src\\SimpleKNN.ipynb Cell 6\u001b[0m line \u001b[0;36m3\n\u001b[0;32m      <a href='vscode-notebook-cell:/d%3A/uni/COMP9517/comp9517-ass2/src/SimpleKNN.ipynb#X35sZmlsZQ%3D%3D?line=0'>1</a>\u001b[0m \u001b[39mimport\u001b[39;00m \u001b[39mperformancetest\u001b[39;00m \u001b[39mas\u001b[39;00m \u001b[39mpt\u001b[39;00m\n\u001b[1;32m----> <a href='vscode-notebook-cell:/d%3A/uni/COMP9517/comp9517-ass2/src/SimpleKNN.ipynb#X35sZmlsZQ%3D%3D?line=2'>3</a>\u001b[0m y_true_m \u001b[39m=\u001b[39m y_test_probs[y_test_monopoly \u001b[39m==\u001b[39m \u001b[39m\"\u001b[39m\u001b[39mmono\u001b[39m\u001b[39m\"\u001b[39m]\n\u001b[0;32m      <a href='vscode-notebook-cell:/d%3A/uni/COMP9517/comp9517-ass2/src/SimpleKNN.ipynb#X35sZmlsZQ%3D%3D?line=3'>4</a>\u001b[0m y_true_p \u001b[39m=\u001b[39m y_test_probs[y_test_monopoly \u001b[39m==\u001b[39m \u001b[39m\"\u001b[39m\u001b[39mpoly\u001b[39m\u001b[39m\"\u001b[39m]\n\u001b[0;32m      <a href='vscode-notebook-cell:/d%3A/uni/COMP9517/comp9517-ass2/src/SimpleKNN.ipynb#X35sZmlsZQ%3D%3D?line=4'>5</a>\u001b[0m y_predict_m \u001b[39m=\u001b[39m predictAll[y_test_monopoly \u001b[39m==\u001b[39m \u001b[39m\"\u001b[39m\u001b[39mmono\u001b[39m\u001b[39m\"\u001b[39m]\n",
      "\u001b[1;31mNameError\u001b[0m: name 'y_test_probs' is not defined"
     ]
    }
   ],
   "source": [
    "import performancetest as pt\n",
    "\n",
    "y_true_m = y_test_probs[y_test_monopoly == \"mono\"]\n",
    "y_true_p = y_test_probs[y_test_monopoly == \"poly\"]\n",
    "y_predict_m = predictAll[y_test_monopoly == \"mono\"]\n",
    "y_predict_p = predictAll[y_test_monopoly == \"poly\"]\n",
    "# print(y_predict_p)\n",
    "pt.display_results(y_true_m, y_true_p, y_predict_m, y_predict_p)"
   ]
  },
  {
   "cell_type": "code",
   "execution_count": null,
   "metadata": {},
   "outputs": [],
   "source": [
    "\n",
    "\n",
    "# CONFUSION MATRIX\n",
    "\n",
    "def predict(model, x_test, y_true):\n",
    "    # unpack the triple model\n",
    "    (model_mp, model_m, model_p) = model\n",
    "\n",
    "    # run predictions\n",
    "    predict_mp = model_mp.predict(x_test)\n",
    "    assumed_mono = x_test[predict_mp == \"mono\"]\n",
    "    assumed_poly = x_test[predict_mp == \"poly\"]\n",
    "\n",
    "    predict_m = model_m.predict(assumed_mono)\n",
    "    predict_p = model_p.predict(assumed_poly)\n",
    "\n",
    "    predict_all = np.ones(len(predict_m) + len(predict_p))\n",
    "    predict_all[predict_mp == \"mono\"] = predict_m\n",
    "    predict_all[predict_mp == \"poly\"] = predict_p\n",
    "    return y_true, predict_all\n",
    "\n",
    "# pt.plot_train_data(history)\n",
    "\n",
    "neigh_all = (neighMonoPoly, neighProbsMono, neighProbsPoly)\n",
    "y_true_m, y_true_p, y_predict_m, y_predict_p = pt.predict_results(predict, neigh_all, x_test, y_test_probs, y_test_monopoly)\n",
    "\n",
    "pt.display_results(y_true_m, y_true_p, y_predict_m, y_predict_p)"
   ]
  }
 ],
 "metadata": {
  "kernelspec": {
   "display_name": "Python 3",
   "language": "python",
   "name": "python3"
  },
  "language_info": {
   "codemirror_mode": {
    "name": "ipython",
    "version": 3
   },
   "file_extension": ".py",
   "mimetype": "text/x-python",
   "name": "python",
   "nbconvert_exporter": "python",
   "pygments_lexer": "ipython3",
   "version": "3.6.13"
  }
 },
 "nbformat": 4,
 "nbformat_minor": 2
}
