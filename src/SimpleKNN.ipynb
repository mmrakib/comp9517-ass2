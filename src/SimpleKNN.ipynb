{
 "cells": [
  {
   "cell_type": "code",
   "execution_count": 1,
   "metadata": {},
   "outputs": [],
   "source": [
    "from utils.elpv_reader import load_dataset\n",
    "import numpy as np\n",
    "import matplotlib as plt\n",
    "# import cv2\n",
    "\n",
    "from tensorflow import keras\n",
    "from sklearn.preprocessing import LabelEncoder\n",
    "from sklearn.model_selection import train_test_split, StratifiedShuffleSplit\n",
    "from sklearn.neighbors import KNeighborsClassifier\n",
    "\n",
    "# from PIL import Image\n",
    "import matplotlib.pyplot as plt"
   ]
  },
  {
   "cell_type": "code",
   "execution_count": 3,
   "metadata": {},
   "outputs": [],
   "source": [
    "images, probs, types = load_dataset()"
   ]
  },
  {
   "cell_type": "code",
   "execution_count": 4,
   "metadata": {},
   "outputs": [],
   "source": [
    "# OTSU IMAGE SEGMENTATION HUEHUEHUE\n",
    "# uncomment below code for otsu segmentation\n",
    "\n",
    "# for i in range(0, len(images)):\n",
    "#     retOtsu,thOtsu = cv2.threshold(images[i],0,255,cv2.THRESH_BINARY+cv2.THRESH_OTSU)\n",
    "#     images[i] = thOtsu"
   ]
  },
  {
   "cell_type": "code",
   "execution_count": 6,
   "metadata": {},
   "outputs": [
    {
     "data": {
      "text/plain": [
       "KNeighborsClassifier(n_neighbors=3)"
      ]
     },
     "execution_count": 6,
     "metadata": {},
     "output_type": "execute_result"
    }
   ],
   "source": [
    "# MAKE BIG TRAINING AND TESTING SET\n",
    "# reshape images\n",
    "images1d = images.copy()\n",
    "images1d = np.reshape(images1d, (len(images), 300 * 300))\n",
    "\n",
    "# setup probs array to be discrete values\n",
    "probs_discrete = np.zeros(len(probs))\n",
    "probs_discrete[probs == 0.0] = 1\n",
    "probs_discrete[probs == 1/3] = 2\n",
    "probs_discrete[probs == 2/3] = 3\n",
    "probs_discrete[probs == 1] = 4\n",
    "\n",
    "# join arrays into array of tuples\n",
    "labels = []\n",
    "for i in range(0, len(probs_discrete)):\n",
    "    labels.append((types[i], probs_discrete[i]))\n",
    "\n",
    "# split into test and train\n",
    "x_train, x_test, y_train, y_test = train_test_split(images1d, labels, test_size=0.25, random_state=420)\n",
    "\n",
    "# further split y axis (labels) back into types and probs\n",
    "y_train_monopoly = np.ones(len(y_train), dtype='object')\n",
    "y_train_probs = np.ones(len(y_train))\n",
    "for i in range(0, len(y_train)):\n",
    "    y_train_monopoly[i] = y_train[i][0]\n",
    "    y_train_probs[i] = y_train[i][1]\n",
    "\n",
    "x_train_mono        = x_train[y_train_monopoly == \"mono\"]\n",
    "y_train_probs_mono  = y_train_probs[y_train_monopoly == \"mono\"]\n",
    "\n",
    "x_train_poly        = x_train[y_train_monopoly == \"poly\"]\n",
    "y_train_probs_poly  = y_train_probs[y_train_monopoly == \"poly\"]\n",
    "\n",
    "\n",
    "y_test_monopoly = np.ones(len(y_test), dtype='object')\n",
    "y_test_probs = np.ones(len(y_test))\n",
    "for i in range(0, len(y_test)):\n",
    "    y_test_monopoly[i] = y_test[i][0]\n",
    "    y_test_probs[i] = y_test[i][1]\n",
    "\n",
    "# print(y_train_monopoly)\n",
    "# print(y_train_probs)\n",
    "# print(y_test_monopoly)\n",
    "# print(y_test_probs)\n",
    "\n",
    "# TRAIN (fit) MODELS!\n",
    "#   classify into mono and poly:\n",
    "neighMonoPoly = KNeighborsClassifier(n_neighbors=3)\n",
    "neighMonoPoly.fit(x_train, y_train_monopoly)\n",
    "\n",
    "#   classify probabilities for mono:\n",
    "neighProbsMono = KNeighborsClassifier(n_neighbors=3)\n",
    "neighProbsMono.fit(x_train_mono, y_train_probs_mono)\n",
    "\n",
    "#   classify probabilities for poly:\n",
    "neighProbsPoly = KNeighborsClassifier(n_neighbors=3)\n",
    "neighProbsPoly.fit(x_train_poly, y_train_probs_poly)\n",
    "\n",
    "\n"
   ]
  },
  {
   "cell_type": "code",
   "execution_count": 7,
   "metadata": {},
   "outputs": [
    {
     "name": "stdout",
     "output_type": "stream",
     "text": [
      "              precision    recall  f1-score   support\n",
      "\n",
      "         1.0       0.71      0.89      0.79       377\n",
      "         2.0       0.54      0.41      0.46        69\n",
      "         3.0       0.00      0.00      0.00        28\n",
      "         4.0       0.73      0.51      0.60       182\n",
      "\n",
      "    accuracy                           0.70       656\n",
      "   macro avg       0.50      0.45      0.46       656\n",
      "weighted avg       0.67      0.70      0.67       656\n",
      "\n"
     ]
    }
   ],
   "source": [
    "# Testing\n",
    "\n",
    "# first split into mono- and poly- type panels\n",
    "predictMonoPoly = neighMonoPoly.predict(x_test)\n",
    "\n",
    "assumed_mono_images = x_test[predictMonoPoly == \"mono\"]\n",
    "assumed_poly_images = x_test[predictMonoPoly == \"poly\"]\n",
    "\n",
    "# then, classify based on each type\n",
    "predictMono = neighProbsMono.predict(assumed_mono_images)\n",
    "predictPoly = neighProbsPoly.predict(assumed_poly_images)\n",
    "\n",
    "# regroup\n",
    "predictAll = np.ones(len(predictMono) + len(predictPoly))\n",
    "predictAll[predictMonoPoly == \"mono\"] = predictMono\n",
    "predictAll[predictMonoPoly == \"poly\"] = predictPoly\n",
    "\n",
    "from sklearn.metrics import classification_report\n",
    "print(classification_report(y_test_probs, predictAll))"
   ]
  },
  {
   "cell_type": "code",
   "execution_count": 21,
   "metadata": {},
   "outputs": [
    {
     "ename": "ValueError",
     "evalue": "Got zero_division=nan. Must be one of [\"warn\", 0, 1]",
     "output_type": "error",
     "traceback": [
      "\u001b[1;31m---------------------------------------------------------------------------\u001b[0m",
      "\u001b[1;31mValueError\u001b[0m                                Traceback (most recent call last)",
      "\u001b[1;32m<ipython-input-21-4f7dde171fa4>\u001b[0m in \u001b[0;36m<module>\u001b[1;34m\u001b[0m\n\u001b[0;32m      6\u001b[0m \u001b[0my_predict_p\u001b[0m \u001b[1;33m=\u001b[0m \u001b[0mpredictAll\u001b[0m\u001b[1;33m[\u001b[0m\u001b[0my_test_monopoly\u001b[0m \u001b[1;33m==\u001b[0m \u001b[1;34m\"poly\"\u001b[0m\u001b[1;33m]\u001b[0m\u001b[1;33m\u001b[0m\u001b[1;33m\u001b[0m\u001b[0m\n\u001b[0;32m      7\u001b[0m \u001b[1;31m# print(y_predict_p)\u001b[0m\u001b[1;33m\u001b[0m\u001b[1;33m\u001b[0m\u001b[1;33m\u001b[0m\u001b[0m\n\u001b[1;32m----> 8\u001b[1;33m \u001b[0mpt\u001b[0m\u001b[1;33m.\u001b[0m\u001b[0mdisplay_results\u001b[0m\u001b[1;33m(\u001b[0m\u001b[0my_true_m\u001b[0m\u001b[1;33m,\u001b[0m \u001b[0my_true_p\u001b[0m\u001b[1;33m,\u001b[0m \u001b[0my_predict_m\u001b[0m\u001b[1;33m,\u001b[0m \u001b[0my_predict_p\u001b[0m\u001b[1;33m)\u001b[0m\u001b[1;33m\u001b[0m\u001b[1;33m\u001b[0m\u001b[0m\n\u001b[0m",
      "\u001b[1;32mc:\\Users\\jaych\\Documents\\Computer Vision\\Project\\elpv-dataset-master\\comp9517-ass2\\src\\performancetest.py\u001b[0m in \u001b[0;36mdisplay_results\u001b[1;34m(y_true_m, y_true_p, y_predict_m, y_predict_p)\u001b[0m\n\u001b[0;32m      8\u001b[0m     \u001b[0my_predict\u001b[0m \u001b[1;33m=\u001b[0m \u001b[0mnp\u001b[0m\u001b[1;33m.\u001b[0m\u001b[0mconcatenate\u001b[0m\u001b[1;33m(\u001b[0m\u001b[1;33m(\u001b[0m\u001b[0my_predict_m\u001b[0m\u001b[1;33m,\u001b[0m \u001b[0my_predict_p\u001b[0m\u001b[1;33m)\u001b[0m\u001b[1;33m,\u001b[0m \u001b[0maxis\u001b[0m\u001b[1;33m=\u001b[0m\u001b[1;36m0\u001b[0m\u001b[1;33m)\u001b[0m\u001b[1;33m\u001b[0m\u001b[1;33m\u001b[0m\u001b[0m\n\u001b[0;32m      9\u001b[0m \u001b[1;33m\u001b[0m\u001b[0m\n\u001b[1;32m---> 10\u001b[1;33m     \u001b[0mprint_scores\u001b[0m\u001b[1;33m(\u001b[0m\u001b[0my_true_m\u001b[0m\u001b[1;33m,\u001b[0m \u001b[0my_predict_m\u001b[0m\u001b[1;33m,\u001b[0m \u001b[1;34m\"Mono Results    \"\u001b[0m\u001b[1;33m)\u001b[0m\u001b[1;33m\u001b[0m\u001b[1;33m\u001b[0m\u001b[0m\n\u001b[0m\u001b[0;32m     11\u001b[0m     \u001b[0mprint_scores\u001b[0m\u001b[1;33m(\u001b[0m\u001b[0my_true_p\u001b[0m\u001b[1;33m,\u001b[0m \u001b[0my_predict_p\u001b[0m\u001b[1;33m,\u001b[0m \u001b[1;34m\"Poly Results    \"\u001b[0m\u001b[1;33m)\u001b[0m\u001b[1;33m\u001b[0m\u001b[1;33m\u001b[0m\u001b[0m\n\u001b[0;32m     12\u001b[0m     \u001b[0mprint_scores\u001b[0m\u001b[1;33m(\u001b[0m\u001b[0my_true\u001b[0m\u001b[1;33m,\u001b[0m   \u001b[0my_predict\u001b[0m\u001b[1;33m,\u001b[0m \u001b[1;34m\"Combined Results\"\u001b[0m\u001b[1;33m)\u001b[0m\u001b[1;33m\u001b[0m\u001b[1;33m\u001b[0m\u001b[0m\n",
      "\u001b[1;32mc:\\Users\\jaych\\Documents\\Computer Vision\\Project\\elpv-dataset-master\\comp9517-ass2\\src\\performancetest.py\u001b[0m in \u001b[0;36mprint_scores\u001b[1;34m(y_true, y_predict, title)\u001b[0m\n\u001b[0;32m     28\u001b[0m     print(title, \"|\",\n\u001b[0;32m     29\u001b[0m         \u001b[1;34m\" Accuracy:\"\u001b[0m\u001b[1;33m,\u001b[0m   \u001b[0mround\u001b[0m\u001b[1;33m(\u001b[0m\u001b[0msk_met\u001b[0m\u001b[1;33m.\u001b[0m\u001b[0maccuracy_score\u001b[0m\u001b[1;33m(\u001b[0m \u001b[0my_true\u001b[0m\u001b[1;33m,\u001b[0m \u001b[0my_predict\u001b[0m\u001b[1;33m)\u001b[0m\u001b[1;33m,\u001b[0m\u001b[1;36m5\u001b[0m\u001b[1;33m)\u001b[0m\u001b[1;33m,\u001b[0m\u001b[1;33m\u001b[0m\u001b[1;33m\u001b[0m\u001b[0m\n\u001b[1;32m---> 30\u001b[1;33m         \u001b[1;34m\" Precision:\"\u001b[0m\u001b[1;33m,\u001b[0m  \u001b[0mround\u001b[0m\u001b[1;33m(\u001b[0m\u001b[0msk_met\u001b[0m\u001b[1;33m.\u001b[0m\u001b[0mprecision_score\u001b[0m\u001b[1;33m(\u001b[0m\u001b[0my_true\u001b[0m\u001b[1;33m,\u001b[0m \u001b[0my_predict\u001b[0m\u001b[1;33m,\u001b[0m \u001b[0maverage\u001b[0m\u001b[1;33m=\u001b[0m\u001b[1;34m'macro'\u001b[0m\u001b[1;33m,\u001b[0m \u001b[0mzero_division\u001b[0m\u001b[1;33m=\u001b[0m\u001b[0mnp\u001b[0m\u001b[1;33m.\u001b[0m\u001b[0mnan\u001b[0m\u001b[1;33m)\u001b[0m\u001b[1;33m,\u001b[0m\u001b[1;36m5\u001b[0m\u001b[1;33m)\u001b[0m\u001b[1;33m,\u001b[0m\u001b[1;33m\u001b[0m\u001b[1;33m\u001b[0m\u001b[0m\n\u001b[0m\u001b[0;32m     31\u001b[0m         \u001b[1;34m\" Recall:\"\u001b[0m\u001b[1;33m,\u001b[0m     \u001b[0mround\u001b[0m\u001b[1;33m(\u001b[0m\u001b[0msk_met\u001b[0m\u001b[1;33m.\u001b[0m\u001b[0mrecall_score\u001b[0m\u001b[1;33m(\u001b[0m   \u001b[0my_true\u001b[0m\u001b[1;33m,\u001b[0m \u001b[0my_predict\u001b[0m\u001b[1;33m,\u001b[0m \u001b[0maverage\u001b[0m\u001b[1;33m=\u001b[0m\u001b[1;34m'macro'\u001b[0m\u001b[1;33m)\u001b[0m\u001b[1;33m,\u001b[0m\u001b[1;36m5\u001b[0m\u001b[1;33m)\u001b[0m\u001b[1;33m,\u001b[0m\u001b[1;33m\u001b[0m\u001b[1;33m\u001b[0m\u001b[0m\n\u001b[0;32m     32\u001b[0m         \" F1:\",         round(sk_met.f1_score(       y_true, y_predict, average='macro'),5))\n",
      "\u001b[1;32mc:\\Users\\jaych\\anaconda3\\envs\\tensorflow-directml\\lib\\site-packages\\sklearn\\utils\\validation.py\u001b[0m in \u001b[0;36minner_f\u001b[1;34m(*args, **kwargs)\u001b[0m\n\u001b[0;32m     61\u001b[0m             \u001b[0mextra_args\u001b[0m \u001b[1;33m=\u001b[0m \u001b[0mlen\u001b[0m\u001b[1;33m(\u001b[0m\u001b[0margs\u001b[0m\u001b[1;33m)\u001b[0m \u001b[1;33m-\u001b[0m \u001b[0mlen\u001b[0m\u001b[1;33m(\u001b[0m\u001b[0mall_args\u001b[0m\u001b[1;33m)\u001b[0m\u001b[1;33m\u001b[0m\u001b[1;33m\u001b[0m\u001b[0m\n\u001b[0;32m     62\u001b[0m             \u001b[1;32mif\u001b[0m \u001b[0mextra_args\u001b[0m \u001b[1;33m<=\u001b[0m \u001b[1;36m0\u001b[0m\u001b[1;33m:\u001b[0m\u001b[1;33m\u001b[0m\u001b[1;33m\u001b[0m\u001b[0m\n\u001b[1;32m---> 63\u001b[1;33m                 \u001b[1;32mreturn\u001b[0m \u001b[0mf\u001b[0m\u001b[1;33m(\u001b[0m\u001b[1;33m*\u001b[0m\u001b[0margs\u001b[0m\u001b[1;33m,\u001b[0m \u001b[1;33m**\u001b[0m\u001b[0mkwargs\u001b[0m\u001b[1;33m)\u001b[0m\u001b[1;33m\u001b[0m\u001b[1;33m\u001b[0m\u001b[0m\n\u001b[0m\u001b[0;32m     64\u001b[0m \u001b[1;33m\u001b[0m\u001b[0m\n\u001b[0;32m     65\u001b[0m             \u001b[1;31m# extra_args > 0\u001b[0m\u001b[1;33m\u001b[0m\u001b[1;33m\u001b[0m\u001b[1;33m\u001b[0m\u001b[0m\n",
      "\u001b[1;32mc:\\Users\\jaych\\anaconda3\\envs\\tensorflow-directml\\lib\\site-packages\\sklearn\\metrics\\_classification.py\u001b[0m in \u001b[0;36mprecision_score\u001b[1;34m(y_true, y_pred, labels, pos_label, average, sample_weight, zero_division)\u001b[0m\n\u001b[0;32m   1660\u001b[0m                                                  \u001b[0mwarn_for\u001b[0m\u001b[1;33m=\u001b[0m\u001b[1;33m(\u001b[0m\u001b[1;34m'precision'\u001b[0m\u001b[1;33m,\u001b[0m\u001b[1;33m)\u001b[0m\u001b[1;33m,\u001b[0m\u001b[1;33m\u001b[0m\u001b[1;33m\u001b[0m\u001b[0m\n\u001b[0;32m   1661\u001b[0m                                                  \u001b[0msample_weight\u001b[0m\u001b[1;33m=\u001b[0m\u001b[0msample_weight\u001b[0m\u001b[1;33m,\u001b[0m\u001b[1;33m\u001b[0m\u001b[1;33m\u001b[0m\u001b[0m\n\u001b[1;32m-> 1662\u001b[1;33m                                                  zero_division=zero_division)\n\u001b[0m\u001b[0;32m   1663\u001b[0m     \u001b[1;32mreturn\u001b[0m \u001b[0mp\u001b[0m\u001b[1;33m\u001b[0m\u001b[1;33m\u001b[0m\u001b[0m\n\u001b[0;32m   1664\u001b[0m \u001b[1;33m\u001b[0m\u001b[0m\n",
      "\u001b[1;32mc:\\Users\\jaych\\anaconda3\\envs\\tensorflow-directml\\lib\\site-packages\\sklearn\\utils\\validation.py\u001b[0m in \u001b[0;36minner_f\u001b[1;34m(*args, **kwargs)\u001b[0m\n\u001b[0;32m     61\u001b[0m             \u001b[0mextra_args\u001b[0m \u001b[1;33m=\u001b[0m \u001b[0mlen\u001b[0m\u001b[1;33m(\u001b[0m\u001b[0margs\u001b[0m\u001b[1;33m)\u001b[0m \u001b[1;33m-\u001b[0m \u001b[0mlen\u001b[0m\u001b[1;33m(\u001b[0m\u001b[0mall_args\u001b[0m\u001b[1;33m)\u001b[0m\u001b[1;33m\u001b[0m\u001b[1;33m\u001b[0m\u001b[0m\n\u001b[0;32m     62\u001b[0m             \u001b[1;32mif\u001b[0m \u001b[0mextra_args\u001b[0m \u001b[1;33m<=\u001b[0m \u001b[1;36m0\u001b[0m\u001b[1;33m:\u001b[0m\u001b[1;33m\u001b[0m\u001b[1;33m\u001b[0m\u001b[0m\n\u001b[1;32m---> 63\u001b[1;33m                 \u001b[1;32mreturn\u001b[0m \u001b[0mf\u001b[0m\u001b[1;33m(\u001b[0m\u001b[1;33m*\u001b[0m\u001b[0margs\u001b[0m\u001b[1;33m,\u001b[0m \u001b[1;33m**\u001b[0m\u001b[0mkwargs\u001b[0m\u001b[1;33m)\u001b[0m\u001b[1;33m\u001b[0m\u001b[1;33m\u001b[0m\u001b[0m\n\u001b[0m\u001b[0;32m     64\u001b[0m \u001b[1;33m\u001b[0m\u001b[0m\n\u001b[0;32m     65\u001b[0m             \u001b[1;31m# extra_args > 0\u001b[0m\u001b[1;33m\u001b[0m\u001b[1;33m\u001b[0m\u001b[1;33m\u001b[0m\u001b[0m\n",
      "\u001b[1;32mc:\\Users\\jaych\\anaconda3\\envs\\tensorflow-directml\\lib\\site-packages\\sklearn\\metrics\\_classification.py\u001b[0m in \u001b[0;36mprecision_recall_fscore_support\u001b[1;34m(y_true, y_pred, beta, labels, pos_label, average, warn_for, sample_weight, zero_division)\u001b[0m\n\u001b[0;32m   1459\u001b[0m      array([2, 2, 2]))\n\u001b[0;32m   1460\u001b[0m     \"\"\"\n\u001b[1;32m-> 1461\u001b[1;33m     \u001b[0m_check_zero_division\u001b[0m\u001b[1;33m(\u001b[0m\u001b[0mzero_division\u001b[0m\u001b[1;33m)\u001b[0m\u001b[1;33m\u001b[0m\u001b[1;33m\u001b[0m\u001b[0m\n\u001b[0m\u001b[0;32m   1462\u001b[0m     \u001b[1;32mif\u001b[0m \u001b[0mbeta\u001b[0m \u001b[1;33m<\u001b[0m \u001b[1;36m0\u001b[0m\u001b[1;33m:\u001b[0m\u001b[1;33m\u001b[0m\u001b[1;33m\u001b[0m\u001b[0m\n\u001b[0;32m   1463\u001b[0m         \u001b[1;32mraise\u001b[0m \u001b[0mValueError\u001b[0m\u001b[1;33m(\u001b[0m\u001b[1;34m\"beta should be >=0 in the F-beta score\"\u001b[0m\u001b[1;33m)\u001b[0m\u001b[1;33m\u001b[0m\u001b[1;33m\u001b[0m\u001b[0m\n",
      "\u001b[1;32mc:\\Users\\jaych\\anaconda3\\envs\\tensorflow-directml\\lib\\site-packages\\sklearn\\metrics\\_classification.py\u001b[0m in \u001b[0;36m_check_zero_division\u001b[1;34m(zero_division)\u001b[0m\n\u001b[0;32m     51\u001b[0m         \u001b[1;32mreturn\u001b[0m\u001b[1;33m\u001b[0m\u001b[1;33m\u001b[0m\u001b[0m\n\u001b[0;32m     52\u001b[0m     raise ValueError('Got zero_division={0}.'\n\u001b[1;32m---> 53\u001b[1;33m                      ' Must be one of [\"warn\", 0, 1]'.format(zero_division))\n\u001b[0m\u001b[0;32m     54\u001b[0m \u001b[1;33m\u001b[0m\u001b[0m\n\u001b[0;32m     55\u001b[0m \u001b[1;33m\u001b[0m\u001b[0m\n",
      "\u001b[1;31mValueError\u001b[0m: Got zero_division=nan. Must be one of [\"warn\", 0, 1]"
     ]
    }
   ],
   "source": [
    "import performancetest as pt\n",
    "\n",
    "y_true_m = y_test_probs[y_test_monopoly == \"mono\"]\n",
    "y_true_p = y_test_probs[y_test_monopoly == \"poly\"]\n",
    "y_predict_m = predictAll[y_test_monopoly == \"mono\"]\n",
    "y_predict_p = predictAll[y_test_monopoly == \"poly\"]\n",
    "# print(y_predict_p)\n",
    "pt.display_results(y_true_m, y_true_p, y_predict_m, y_predict_p)"
   ]
  },
  {
   "cell_type": "code",
   "execution_count": 22,
   "metadata": {},
   "outputs": [],
   "source": [
    "\n",
    "\n",
    "# CONFUSION MATRIX\n",
    "\n",
    "def predict(model, x_test, y_true):\n",
    "    # unpack the triple model\n",
    "    (model_mp, model_m, model_p) = model\n",
    "\n",
    "    # run predictions\n",
    "    predict_mp = model_mp.predict(x_test)\n",
    "    assumed_mono = x_test[predict_mp == \"mono\"]\n",
    "    assumed_poly = x_test[predict_mp == \"poly\"]\n",
    "\n",
    "    predict_m = model_m.predict(assumed_mono)\n",
    "    predict_p = model_p.predict(assumed_poly)\n",
    "\n",
    "    predict_all = np.ones(len(predict_m) + len(predict_p))\n",
    "    predict_all[predict_mp == \"mono\"] = predict_m\n",
    "    predict_all[predict_mp == \"poly\"] = predict_p\n",
    "    return y_true, predict_all\n",
    "\n",
    "# pt.plot_train_data(history)\n",
    "\n",
    "neigh_all = (neighMonoPoly, neighProbsMono, neighProbsPoly)\n",
    "y_true_m, y_true_p, y_predict_m, y_predict_p = pt.predict_results(predict, neigh_all, x_test, y_test_probs, y_test_monopoly)\n",
    "\n",
    "pt.display_results(y_true_m, y_true_p, y_predict_m, y_predict_p)"
   ]
  }
 ],
 "metadata": {
  "kernelspec": {
   "display_name": "Python 3",
   "language": "python",
   "name": "python3"
  },
  "language_info": {
   "codemirror_mode": {
    "name": "ipython",
    "version": 3
   },
   "file_extension": ".py",
   "mimetype": "text/x-python",
   "name": "python",
   "nbconvert_exporter": "python",
   "pygments_lexer": "ipython3",
   "version": "3.6.13"
  }
 },
 "nbformat": 4,
 "nbformat_minor": 2
}
