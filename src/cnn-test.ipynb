{
 "cells": [
  {
   "cell_type": "code",
   "execution_count": null,
   "metadata": {},
   "outputs": [],
   "source": [
    "from Dataloader import load_and_preprocess_dataset\n",
    "import cnn as cnn\n",
    "import numpy as np\n",
    "import matplotlib.pyplot as plt\n",
    "import tensorflow as tf\n",
    "\n",
    "types = [\"Mono\", \"Poly\"]"
   ]
  },
  {
   "cell_type": "code",
   "execution_count": null,
   "metadata": {},
   "outputs": [],
   "source": [
    "train_imgs, train_probs, train_types, test_imgs, test_probs, test_types = load_and_preprocess_dataset(augment=\"All\", out_types=\"Mono\", aug_types=[\"Flip\"], channels=3, balance_probs=0)\n",
    "\n",
    "print(\"Train probs count: \", np.unique(train_probs, return_counts = True))\n",
    "print(\"Test probs count: \", np.unique(test_probs, return_counts = True))\n",
    "\n",
    "train_probs = cnn.onehot_encode(train_probs)\n",
    "test_probs = cnn.onehot_encode(test_probs)\n",
    "\n",
    "\n",
    "vgg19 = cnn.initialize_model(\"vgg19\")\n",
    "history = cnn.train_model(vgg19, train_imgs, train_probs, epochs = 100, filename=f'vgg19-{type}-base')\n",
    "\n",
    "cnn.plot_loss(history)\n",
    "cnn.plot_accuracy(history)\n",
    "\n",
    "cnn.save_history(history, \"vgg19-mono-base\")\n",
    "\n",
    "history = cnn.finetune_model(vgg19, train_imgs, train_probs, iterations=3, filename = f'vgg19-{type}-finetuned', epochs = 100)\n",
    "cnn.plot_loss(history)\n",
    "cnn.plot_accuracy(history)\n",
    "\n",
    "# vgg19 = tf.keras.models.load_model('../models/vgg19-base')\n",
    "\n",
    "score = cnn.evaluate_metrics(vgg19, test_imgs, test_probs, filename = f'vgg19-{type}-finetuned')\n",
    "\n",
    "cnn.predict_metrics(vgg19, test_imgs, test_probs, filename= f'vgg19-{type}-finetuned')\n",
    "\n",
    "# train_imgs, train_probs, train_types, test_imgs, test_probs, test_types = load_and_preprocess_dataset(augment=\"All\", out_types=\"Mono\", aug_types=[\"Flip\"], channels=3, balance_probs=0)\n",
    "\n",
    "# train_probs = cnn.onehot_encode(train_probs)\n",
    "# test_probs = cnn.onehot_encode(test_probs)\n",
    "\n",
    "# vgg19 = tf.keras.models.load_model('../models/vgg19-mono-ft.keras')\n",
    "\n",
    "# score = cnn.evaluate_metrics(vgg19, test_imgs, test_probs, filename = f'vgg19-mono-finetuned')\n",
    "\n",
    "# cnn.predict_metrics(vgg19, test_imgs, test_probs, filename= f'vgg19-mono-finetuned')"
   ]
  }
 ],
 "metadata": {
  "language_info": {
   "name": "python"
  }
 },
 "nbformat": 4,
 "nbformat_minor": 2
}
