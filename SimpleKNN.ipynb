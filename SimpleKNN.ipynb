{
 "cells": [
  {
   "cell_type": "code",
   "execution_count": 1,
   "metadata": {},
   "outputs": [],
   "source": [
    "from utils.elpv_reader import load_dataset\n",
    "import numpy as np\n",
    "import matplotlib as plt\n",
    "import cv2\n",
    "\n",
    "from tensorflow import keras\n",
    "from sklearn.preprocessing import LabelEncoder\n",
    "from sklearn.model_selection import train_test_split, StratifiedShuffleSplit\n",
    "from sklearn.neighbors import KNeighborsClassifier\n",
    "\n",
    "import cv2 as cv\n",
    "# from PIL import Image\n",
    "import matplotlib.pyplot as plt"
   ]
  },
  {
   "cell_type": "code",
   "execution_count": 2,
   "metadata": {},
   "outputs": [],
   "source": [
    "images, probs, types = load_dataset()"
   ]
  },
  {
   "cell_type": "code",
   "execution_count": 3,
   "metadata": {},
   "outputs": [],
   "source": [
    "# OTSU IMAGE SEGMENTATION HUEHUEHUE\n",
    "# uncomment below code for otsu segmentation\n",
    "\n",
    "# for i in range(0, len(images)):\n",
    "#     retOtsu,thOtsu = cv2.threshold(images[i],0,255,cv2.THRESH_BINARY+cv2.THRESH_OTSU)\n",
    "#     images[i] = thOtsu"
   ]
  },
  {
   "cell_type": "code",
   "execution_count": 4,
   "metadata": {},
   "outputs": [
    {
     "data": {
      "text/html": [
       "<style>#sk-container-id-1 {color: black;}#sk-container-id-1 pre{padding: 0;}#sk-container-id-1 div.sk-toggleable {background-color: white;}#sk-container-id-1 label.sk-toggleable__label {cursor: pointer;display: block;width: 100%;margin-bottom: 0;padding: 0.3em;box-sizing: border-box;text-align: center;}#sk-container-id-1 label.sk-toggleable__label-arrow:before {content: \"▸\";float: left;margin-right: 0.25em;color: #696969;}#sk-container-id-1 label.sk-toggleable__label-arrow:hover:before {color: black;}#sk-container-id-1 div.sk-estimator:hover label.sk-toggleable__label-arrow:before {color: black;}#sk-container-id-1 div.sk-toggleable__content {max-height: 0;max-width: 0;overflow: hidden;text-align: left;background-color: #f0f8ff;}#sk-container-id-1 div.sk-toggleable__content pre {margin: 0.2em;color: black;border-radius: 0.25em;background-color: #f0f8ff;}#sk-container-id-1 input.sk-toggleable__control:checked~div.sk-toggleable__content {max-height: 200px;max-width: 100%;overflow: auto;}#sk-container-id-1 input.sk-toggleable__control:checked~label.sk-toggleable__label-arrow:before {content: \"▾\";}#sk-container-id-1 div.sk-estimator input.sk-toggleable__control:checked~label.sk-toggleable__label {background-color: #d4ebff;}#sk-container-id-1 div.sk-label input.sk-toggleable__control:checked~label.sk-toggleable__label {background-color: #d4ebff;}#sk-container-id-1 input.sk-hidden--visually {border: 0;clip: rect(1px 1px 1px 1px);clip: rect(1px, 1px, 1px, 1px);height: 1px;margin: -1px;overflow: hidden;padding: 0;position: absolute;width: 1px;}#sk-container-id-1 div.sk-estimator {font-family: monospace;background-color: #f0f8ff;border: 1px dotted black;border-radius: 0.25em;box-sizing: border-box;margin-bottom: 0.5em;}#sk-container-id-1 div.sk-estimator:hover {background-color: #d4ebff;}#sk-container-id-1 div.sk-parallel-item::after {content: \"\";width: 100%;border-bottom: 1px solid gray;flex-grow: 1;}#sk-container-id-1 div.sk-label:hover label.sk-toggleable__label {background-color: #d4ebff;}#sk-container-id-1 div.sk-serial::before {content: \"\";position: absolute;border-left: 1px solid gray;box-sizing: border-box;top: 0;bottom: 0;left: 50%;z-index: 0;}#sk-container-id-1 div.sk-serial {display: flex;flex-direction: column;align-items: center;background-color: white;padding-right: 0.2em;padding-left: 0.2em;position: relative;}#sk-container-id-1 div.sk-item {position: relative;z-index: 1;}#sk-container-id-1 div.sk-parallel {display: flex;align-items: stretch;justify-content: center;background-color: white;position: relative;}#sk-container-id-1 div.sk-item::before, #sk-container-id-1 div.sk-parallel-item::before {content: \"\";position: absolute;border-left: 1px solid gray;box-sizing: border-box;top: 0;bottom: 0;left: 50%;z-index: -1;}#sk-container-id-1 div.sk-parallel-item {display: flex;flex-direction: column;z-index: 1;position: relative;background-color: white;}#sk-container-id-1 div.sk-parallel-item:first-child::after {align-self: flex-end;width: 50%;}#sk-container-id-1 div.sk-parallel-item:last-child::after {align-self: flex-start;width: 50%;}#sk-container-id-1 div.sk-parallel-item:only-child::after {width: 0;}#sk-container-id-1 div.sk-dashed-wrapped {border: 1px dashed gray;margin: 0 0.4em 0.5em 0.4em;box-sizing: border-box;padding-bottom: 0.4em;background-color: white;}#sk-container-id-1 div.sk-label label {font-family: monospace;font-weight: bold;display: inline-block;line-height: 1.2em;}#sk-container-id-1 div.sk-label-container {text-align: center;}#sk-container-id-1 div.sk-container {/* jupyter's `normalize.less` sets `[hidden] { display: none; }` but bootstrap.min.css set `[hidden] { display: none !important; }` so we also need the `!important` here to be able to override the default hidden behavior on the sphinx rendered scikit-learn.org. See: https://github.com/scikit-learn/scikit-learn/issues/21755 */display: inline-block !important;position: relative;}#sk-container-id-1 div.sk-text-repr-fallback {display: none;}</style><div id=\"sk-container-id-1\" class=\"sk-top-container\"><div class=\"sk-text-repr-fallback\"><pre>KNeighborsClassifier(n_neighbors=3)</pre><b>In a Jupyter environment, please rerun this cell to show the HTML representation or trust the notebook. <br />On GitHub, the HTML representation is unable to render, please try loading this page with nbviewer.org.</b></div><div class=\"sk-container\" hidden><div class=\"sk-item\"><div class=\"sk-estimator sk-toggleable\"><input class=\"sk-toggleable__control sk-hidden--visually\" id=\"sk-estimator-id-1\" type=\"checkbox\" checked><label for=\"sk-estimator-id-1\" class=\"sk-toggleable__label sk-toggleable__label-arrow\">KNeighborsClassifier</label><div class=\"sk-toggleable__content\"><pre>KNeighborsClassifier(n_neighbors=3)</pre></div></div></div></div></div>"
      ],
      "text/plain": [
       "KNeighborsClassifier(n_neighbors=3)"
      ]
     },
     "execution_count": 4,
     "metadata": {},
     "output_type": "execute_result"
    }
   ],
   "source": [
    "# MAKE BIG TRAINING AND TESTING SET\n",
    "# reshape images\n",
    "images1d = images.copy()\n",
    "images1d = np.reshape(images1d, (len(images), 300 * 300))\n",
    "\n",
    "# setup probs array to be discrete values\n",
    "probs_discrete = np.zeros(len(probs))\n",
    "probs_discrete[probs == 0.0] = 1\n",
    "probs_discrete[probs == 1/3] = 2\n",
    "probs_discrete[probs == 2/3] = 3\n",
    "probs_discrete[probs == 1] = 4\n",
    "\n",
    "# join arrays into array of tuples\n",
    "labels = []\n",
    "for i in range(0, len(probs_discrete)):\n",
    "    labels.append((types[i], probs_discrete[i]))\n",
    "\n",
    "# split into test and train\n",
    "x_train, x_test, y_train, y_test = train_test_split(images1d, labels, test_size=0.25, random_state=50)\n",
    "\n",
    "# further split y axis (labels) back into types and probs\n",
    "y_train_monopoly = np.ones(len(y_train), dtype='object')\n",
    "y_train_probs = np.ones(len(y_train))\n",
    "for i in range(0, len(y_train)):\n",
    "    y_train_monopoly[i] = y_train[i][0]\n",
    "    y_train_probs[i] = y_train[i][1]\n",
    "\n",
    "x_train_mono        = x_train[y_train_monopoly == \"mono\"]\n",
    "y_train_probs_mono  = y_train_probs[y_train_monopoly == \"mono\"]\n",
    "\n",
    "x_train_poly        = x_train[y_train_monopoly == \"poly\"]\n",
    "y_train_probs_poly  = y_train_probs[y_train_monopoly == \"poly\"]\n",
    "\n",
    "\n",
    "y_test_monopoly = np.ones(len(y_test), dtype='object')\n",
    "y_test_probs = np.ones(len(y_test))\n",
    "for i in range(0, len(y_test)):\n",
    "    y_test_monopoly[i] = y_test[i][0]\n",
    "    y_test_probs[i] = y_test[i][1]\n",
    "\n",
    "# print(y_train_monopoly)\n",
    "# print(y_train_probs)\n",
    "# print(y_test_monopoly)\n",
    "# print(y_test_probs)\n",
    "\n",
    "# TRAIN (fit) MODELS!\n",
    "#   classify into mono and poly:\n",
    "neighMonoPoly = KNeighborsClassifier(n_neighbors=3)\n",
    "neighMonoPoly.fit(x_train, y_train_monopoly)\n",
    "\n",
    "#   classify probabilities for mono:\n",
    "neighProbsMono = KNeighborsClassifier(n_neighbors=3)\n",
    "neighProbsMono.fit(x_train_mono, y_train_probs_mono)\n",
    "\n",
    "#   classify probabilities for poly:\n",
    "neighProbsPoly = KNeighborsClassifier(n_neighbors=3)\n",
    "neighProbsPoly.fit(x_train_poly, y_train_probs_poly)\n",
    "\n",
    "\n"
   ]
  },
  {
   "cell_type": "code",
   "execution_count": 5,
   "metadata": {},
   "outputs": [],
   "source": [
    "# Testing\n",
    "\n",
    "# first split into mono- and poly- type panels\n",
    "predictMonoPoly = neighMonoPoly.predict(x_test)\n",
    "\n",
    "assumed_mono_images = x_test[predictMonoPoly == \"mono\"]\n",
    "assumed_poly_images = x_test[predictMonoPoly == \"poly\"]\n",
    "\n",
    "# then, classify based on each type\n",
    "predictMono = neighProbsMono.predict(assumed_mono_images)\n",
    "predictPoly = neighProbsPoly.predict(assumed_poly_images)\n",
    "\n",
    "# regroup\n",
    "predictAll = np.ones(len(predictMono) + len(predictPoly))\n",
    "predictAll[predictMonoPoly == \"mono\"] = predictMono\n",
    "predictAll[predictMonoPoly == \"poly\"] = predictPoly"
   ]
  },
  {
   "cell_type": "code",
   "execution_count": 6,
   "metadata": {},
   "outputs": [
    {
     "name": "stdout",
     "output_type": "stream",
     "text": [
      "              precision    recall  f1-score   support\n",
      "\n",
      "         1.0       0.68      0.89      0.77       358\n",
      "         2.0       0.52      0.35      0.42        75\n",
      "         3.0       0.25      0.03      0.06        29\n",
      "         4.0       0.77      0.52      0.62       194\n",
      "\n",
      "    accuracy                           0.68       656\n",
      "   macro avg       0.55      0.45      0.47       656\n",
      "weighted avg       0.67      0.68      0.65       656\n",
      "\n"
     ]
    }
   ],
   "source": [
    "from sklearn.metrics import classification_report\n",
    "print(classification_report(y_test_probs, predictAll))"
   ]
  }
 ],
 "metadata": {
  "kernelspec": {
   "display_name": "Python 3",
   "language": "python",
   "name": "python3"
  },
  "language_info": {
   "codemirror_mode": {
    "name": "ipython",
    "version": 3
   },
   "file_extension": ".py",
   "mimetype": "text/x-python",
   "name": "python",
   "nbconvert_exporter": "python",
   "pygments_lexer": "ipython3",
   "version": "3.8.0"
  }
 },
 "nbformat": 4,
 "nbformat_minor": 2
}
